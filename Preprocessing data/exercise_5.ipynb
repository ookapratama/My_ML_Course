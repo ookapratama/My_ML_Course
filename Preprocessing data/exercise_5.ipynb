{
 "cells": [
  {
   "cell_type": "markdown",
   "id": "c56eb867-d3ed-4452-a5d0-28ca4242ca78",
   "metadata": {},
   "source": [
    "# Data Pre-Processing"
   ]
  },
  {
   "cell_type": "markdown",
   "id": "e543b7e1-6a45-4d08-900e-e019db6de36a",
   "metadata": {},
   "source": [
    "## Import libraries"
   ]
  },
  {
   "cell_type": "code",
   "execution_count": 78,
   "id": "82b6da34-056c-4763-b18b-0c5c50fde30f",
   "metadata": {},
   "outputs": [],
   "source": [
    "import numpy as np\n",
    "import matplotlib.pyplot as plt\n",
    "import pandas as pd"
   ]
  },
  {
   "cell_type": "code",
   "execution_count": 102,
   "id": "0d49f249-5637-4398-9539-ebc4c4429910",
   "metadata": {},
   "outputs": [],
   "source": [
    "dataset = pd.read_csv('/home/jinx/Belajar/Learn to create Machine Learning Algorithms in Python and R from two Data Science experts Code templates included/Preprocessing data/exercise_5.csv')\n",
    "# dataset = pd.read_csv('/home/jinx/Belajar/Learn to create Machine Learning Algorithms in Python and R from two Data Science experts Code templates included/Preprocessing data/exercise_5_1.csv', delimiter=';')\n",
    "\n",
    "\n",
    "# mengambil semua nilai baris kecuali kolom terakhir (:-1)\n",
    "# iloc mengambil data beradasarkan kolom dengan indeks sbg numerik/angka\n",
    "# x = dataset.iloc[:, :-1].values\n",
    "\n",
    "dataset['alcohol'] = pd.to_numeric(dataset['alcohol'], errors='coerce')\n",
    "dataset['alcohol'] = dataset['alcohol'].astype('float')\n",
    "\n",
    "X = dataset.drop('quality', axis=1)\n",
    "\n",
    "# y mengambil data pada kolom terakhir\n",
    "# y = dataset.iloc[:, -1].values\n",
    "y = dataset['quality']"
   ]
  },
  {
   "cell_type": "code",
   "execution_count": 118,
   "id": "c3346ee9-ddb9-4d33-992e-2c54d9529b15",
   "metadata": {},
   "outputs": [
    {
     "name": "stdout",
     "output_type": "stream",
     "text": [
      "      fixed acidity  volatile acidity  citric acid  residual sugar  chlorides  \\\n",
      "0               7.4              0.70         0.00             1.9      76.00   \n",
      "1               7.8              0.88         0.00             2.6      98.00   \n",
      "2               7.8              0.76         0.04             2.3      92.00   \n",
      "3              11.2              0.28         0.56             1.9      75.00   \n",
      "4               7.4              0.70         0.00             1.9      76.00   \n",
      "...             ...               ...          ...             ...        ...   \n",
      "1594            6.2              0.60         0.08             2.0       0.09   \n",
      "1595            5.9              0.55         0.10             2.2      62.00   \n",
      "1596            6.3              0.51         0.13             2.3      76.00   \n",
      "1597            5.9            645.00         0.12             2.0      75.00   \n",
      "1598            6.0              0.31         0.47             3.6      67.00   \n",
      "\n",
      "      free sulfur dioxide  total sulfur dioxide  density    pH  sulphates  \\\n",
      "0                    11.0                  34.0    9.978  3.51       0.56   \n",
      "1                    25.0                  67.0    9.968  3.20       0.68   \n",
      "2                    15.0                  54.0  997.000  3.26       0.65   \n",
      "3                    17.0                  60.0  998.000  3.16       0.58   \n",
      "4                    11.0                  34.0    9.978  3.51       0.56   \n",
      "...                   ...                   ...      ...   ...        ...   \n",
      "1594                 32.0                  44.0    9.949  3.45       0.58   \n",
      "1595                 39.0                  51.0   99.512  3.52       0.76   \n",
      "1596                 29.0                  40.0   99.574  3.42       0.75   \n",
      "1597                 32.0                  44.0   99.547  3.57       0.71   \n",
      "1598                 18.0                  42.0   99.549  3.39       0.66   \n",
      "\n",
      "      alcohol  \n",
      "0         9.4  \n",
      "1         9.8  \n",
      "2         9.8  \n",
      "3         9.8  \n",
      "4         9.4  \n",
      "...       ...  \n",
      "1594     10.5  \n",
      "1595     11.2  \n",
      "1596     11.0  \n",
      "1597     10.2  \n",
      "1598     11.0  \n",
      "\n",
      "[1599 rows x 11 columns]\n"
     ]
    }
   ],
   "source": [
    "print(X)"
   ]
  },
  {
   "cell_type": "code",
   "execution_count": 119,
   "id": "3f32cbe4-5f7f-447a-b094-9137d03b49c1",
   "metadata": {},
   "outputs": [
    {
     "name": "stdout",
     "output_type": "stream",
     "text": [
      "0       5\n",
      "1       5\n",
      "2       5\n",
      "3       6\n",
      "4       5\n",
      "       ..\n",
      "1594    5\n",
      "1595    6\n",
      "1596    6\n",
      "1597    5\n",
      "1598    6\n",
      "Name: quality, Length: 1599, dtype: int64\n"
     ]
    }
   ],
   "source": [
    "print(y)"
   ]
  },
  {
   "cell_type": "markdown",
   "id": "88959a35",
   "metadata": {},
   "source": [
    "## Identify if dataset is have null value"
   ]
  },
  {
   "cell_type": "code",
   "execution_count": 120,
   "id": "76ee1966",
   "metadata": {},
   "outputs": [
    {
     "name": "stdout",
     "output_type": "stream",
     "text": [
      "6\n"
     ]
    }
   ],
   "source": [
    "missing_data = dataset.isnull().sum().sum() # jika nilai nya NaN\n",
    "# missing_data = (dataset == 0).sum().sum() # jika ada nilai 0\n",
    "\n",
    "print(missing_data)"
   ]
  },
  {
   "cell_type": "markdown",
   "id": "5404c569-3d5c-48e2-8a95-59830d66d181",
   "metadata": {},
   "source": [
    "## Splitting dataset to training and testing "
   ]
  },
  {
   "cell_type": "code",
   "execution_count": 121,
   "id": "c5b8057a-807c-4d35-8e57-fdd7fa524cb6",
   "metadata": {},
   "outputs": [],
   "source": [
    "from sklearn.model_selection import train_test_split\n",
    "x_train, x_test, y_train, y_test = train_test_split(X, y, test_size = 0.2, random_state = 42)"
   ]
  },
  {
   "cell_type": "code",
   "execution_count": 122,
   "id": "270b03d7-8add-46b7-99c3-5f64fd38fdc6",
   "metadata": {},
   "outputs": [
    {
     "name": "stdout",
     "output_type": "stream",
     "text": [
      "      fixed acidity  volatile acidity  citric acid  residual sugar  chlorides  \\\n",
      "493             8.7             0.690         0.31             3.0       86.0   \n",
      "354             6.1             0.210         0.40             1.4       66.0   \n",
      "342            10.9             0.390         0.47             1.8      118.0   \n",
      "834             8.8           685.000         0.26             1.6       88.0   \n",
      "705             8.4             1.035         0.15             6.0       73.0   \n",
      "...             ...               ...          ...             ...        ...   \n",
      "1130            9.1             0.600         0.00             1.9       58.0   \n",
      "1294            8.2           635.000         0.10             2.1       73.0   \n",
      "860             7.2             0.620         0.06             2.7       77.0   \n",
      "1459            7.9             0.200         0.35             1.7       54.0   \n",
      "1126            5.8             0.290         0.26             1.7       63.0   \n",
      "\n",
      "      free sulfur dioxide  total sulfur dioxide   density    pH  sulphates  \\\n",
      "493                  23.0                  81.0    1.2002  3.48       0.74   \n",
      "354                  40.5                 165.0    9.9120  3.25       0.59   \n",
      "342                   6.0                  14.0    9.9820  3.30       0.75   \n",
      "834                  16.0                  23.0   99.6940  3.32       0.47   \n",
      "705                  11.0                  54.0  999.0000  3.37       0.49   \n",
      "...                   ...                   ...       ...   ...        ...   \n",
      "1130                  5.0                  10.0    9.9770  3.18       0.63   \n",
      "1294                 25.0                  60.0   99.6380  3.29       0.75   \n",
      "860                  15.0                  85.0   99.7460  3.51       0.54   \n",
      "1459                  7.0                  15.0   99.4580  3.32       0.80   \n",
      "1126                  3.0                  11.0    9.9150  3.39       0.54   \n",
      "\n",
      "      alcohol  \n",
      "493      11.6  \n",
      "354      11.9  \n",
      "342       9.8  \n",
      "834       9.4  \n",
      "705       9.9  \n",
      "...       ...  \n",
      "1130     10.4  \n",
      "1294     10.9  \n",
      "860       9.5  \n",
      "1459     11.9  \n",
      "1126     13.5  \n",
      "\n",
      "[1279 rows x 11 columns]\n"
     ]
    }
   ],
   "source": [
    "# print(x_train[:, 3:])\n",
    "print(x_train)"
   ]
  },
  {
   "cell_type": "code",
   "execution_count": 123,
   "id": "683d7fce",
   "metadata": {},
   "outputs": [
    {
     "name": "stdout",
     "output_type": "stream",
     "text": [
      "      fixed acidity  volatile acidity  citric acid  residual sugar  chlorides  \\\n",
      "803             7.7              0.56         0.08            2.50      114.0   \n",
      "124             7.8              0.50         0.17            1.60       82.0   \n",
      "350            10.7              0.67         0.22            2.70      107.0   \n",
      "682             8.5              0.46         0.31            2.25       78.0   \n",
      "1326            6.7              0.46         0.24            1.70       77.0   \n",
      "...             ...               ...          ...             ...        ...   \n",
      "1259            6.8              0.64         0.00            2.70      123.0   \n",
      "1295            6.6              0.63         0.00            4.30       93.0   \n",
      "1155            8.3              0.60         0.25            2.20      118.0   \n",
      "963             8.8              0.27         0.39            2.00        0.1   \n",
      "704             9.1            765.00         0.04            1.60       78.0   \n",
      "\n",
      "      free sulfur dioxide  total sulfur dioxide   density    pH  sulphates  \\\n",
      "803                  14.0                  46.0    9.9710  3.24       0.66   \n",
      "124                  21.0                 102.0  996.0000  3.39       0.48   \n",
      "350                  17.0                  34.0    1.2004  3.28       0.98   \n",
      "682                  32.0                  58.0  998.0000  3.33       0.54   \n",
      "1326                 18.0                  34.0    9.9480  3.39       0.60   \n",
      "...                   ...                   ...       ...   ...        ...   \n",
      "1259                 15.0                  33.0   99.5380  3.44       0.63   \n",
      "1295                 51.0                  77.5   99.5580  3.20       0.45   \n",
      "1155                  9.0                  38.0   99.6160  3.15       0.53   \n",
      "963                  20.0                  27.0   99.5460  3.15       0.69   \n",
      "704                   4.0                  14.0  998.0000  3.29       0.54   \n",
      "\n",
      "      alcohol  \n",
      "803       9.6  \n",
      "124       9.5  \n",
      "350       9.9  \n",
      "682       9.8  \n",
      "1326     10.6  \n",
      "...       ...  \n",
      "1259     11.3  \n",
      "1295      9.5  \n",
      "1155      9.8  \n",
      "963      11.2  \n",
      "704       9.7  \n",
      "\n",
      "[320 rows x 11 columns]\n"
     ]
    }
   ],
   "source": [
    "print(x_test)"
   ]
  },
  {
   "cell_type": "code",
   "execution_count": 124,
   "id": "598b3824",
   "metadata": {},
   "outputs": [
    {
     "name": "stdout",
     "output_type": "stream",
     "text": [
      "493     6\n",
      "354     6\n",
      "342     6\n",
      "834     5\n",
      "705     5\n",
      "       ..\n",
      "1130    6\n",
      "1294    6\n",
      "860     5\n",
      "1459    7\n",
      "1126    6\n",
      "Name: quality, Length: 1279, dtype: int64\n"
     ]
    }
   ],
   "source": [
    "print(y_train)"
   ]
  },
  {
   "cell_type": "code",
   "execution_count": 125,
   "id": "81ead80f",
   "metadata": {},
   "outputs": [
    {
     "name": "stdout",
     "output_type": "stream",
     "text": [
      "803     6\n",
      "124     5\n",
      "350     6\n",
      "682     5\n",
      "1326    6\n",
      "       ..\n",
      "1259    6\n",
      "1295    5\n",
      "1155    5\n",
      "963     6\n",
      "704     4\n",
      "Name: quality, Length: 320, dtype: int64\n"
     ]
    }
   ],
   "source": [
    "print(y_test)"
   ]
  },
  {
   "cell_type": "markdown",
   "id": "fcd1eb4c",
   "metadata": {},
   "source": [
    "## Scalling feature\n"
   ]
  },
  {
   "cell_type": "code",
   "execution_count": 126,
   "id": "b1f52157",
   "metadata": {},
   "outputs": [],
   "source": [
    "from sklearn.preprocessing import StandardScaler\n",
    "sc = StandardScaler()\n",
    "x_train = sc.fit_transform(x_train)\n",
    "x_test = sc.transform(x_test) "
   ]
  },
  {
   "cell_type": "code",
   "execution_count": 127,
   "id": "c505bd1f",
   "metadata": {},
   "outputs": [
    {
     "name": "stdout",
     "output_type": "stream",
     "text": [
      "[[ 0.21833164 -0.34437205  0.19209222 ...  1.09349989  0.45822284\n",
      "   1.12636346]\n",
      " [-1.29016623 -0.34650645  0.65275338 ... -0.40043872 -0.40119696\n",
      "   1.41207845]\n",
      " [ 1.49475291 -0.34570605  1.01104539 ... -0.07566946  0.51551749\n",
      "  -0.58792649]\n",
      " ...\n",
      " [-0.65195559 -0.34468331 -1.08752211 ...  1.28836145 -0.68767023\n",
      "  -0.87364148]\n",
      " [-0.24582155 -0.34655092  0.39683051 ...  0.05423824  0.80199076\n",
      "   1.41207845]\n",
      " [-1.46422367 -0.34615072 -0.06383064 ...  0.50891521 -0.68767023\n",
      "   2.93589174]]\n"
     ]
    }
   ],
   "source": [
    "print(x_train)"
   ]
  },
  {
   "cell_type": "code",
   "execution_count": 128,
   "id": "b8eb48e3",
   "metadata": {},
   "outputs": [
    {
     "name": "stdout",
     "output_type": "stream",
     "text": [
      "[[-3.61859850e-01 -3.44950114e-01 -9.85152962e-01 ... -4.65392578e-01\n",
      "  -1.34389336e-04 -7.78403150e-01]\n",
      " [-3.03840702e-01 -3.45216916e-01 -5.24491803e-01 ...  5.08915214e-01\n",
      "  -1.03143815e+00 -8.73641480e-01]\n",
      " [ 1.37871461e+00 -3.44460979e-01 -2.68568937e-01 ... -2.05577167e-01\n",
      "   1.83329452e+00 -4.92688158e-01]\n",
      " ...\n",
      " [-1.37449586e-02 -3.44772247e-01 -1.15015218e-01 ... -1.04997725e+00\n",
      "  -7.44964886e-01 -5.87926489e-01]\n",
      " [ 2.76350785e-01 -3.46239653e-01  6.01568807e-01 ... -1.04997725e+00\n",
      "   1.71749571e-01  7.45410138e-01]\n",
      " [ 4.50408230e-01  3.05427414e+00 -1.18989125e+00 ... -1.40623314e-01\n",
      "  -6.87670232e-01 -6.83164819e-01]]\n"
     ]
    }
   ],
   "source": [
    "print(x_test)"
   ]
  },
  {
   "cell_type": "code",
   "execution_count": null,
   "id": "8f4b6d14",
   "metadata": {},
   "outputs": [],
   "source": []
  }
 ],
 "metadata": {
  "kernelspec": {
   "display_name": "Python 3",
   "language": "python",
   "name": "python3"
  },
  "language_info": {
   "codemirror_mode": {
    "name": "ipython",
    "version": 3
   },
   "file_extension": ".py",
   "mimetype": "text/x-python",
   "name": "python",
   "nbconvert_exporter": "python",
   "pygments_lexer": "ipython3",
   "version": "3.13.5"
  }
 },
 "nbformat": 4,
 "nbformat_minor": 5
}
