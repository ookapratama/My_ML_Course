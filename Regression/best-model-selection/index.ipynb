{
 "cells": [
  {
   "cell_type": "markdown",
   "id": "059c8766",
   "metadata": {},
   "source": [
    "# Which model performs best on our dataset ?\n",
    "Bisa dijadikan template untuk menguji performa model terbaik yang bisa kita gunakan terhadap dataset kita nanti nya"
   ]
  },
  {
   "cell_type": "code",
   "execution_count": null,
   "id": "b2385b4b",
   "metadata": {
    "vscode": {
     "languageId": "plaintext"
    }
   },
   "outputs": [],
   "source": []
  },
  {
   "cell_type": "markdown",
   "id": "e1132d21",
   "metadata": {},
   "source": []
  }
 ],
 "metadata": {
  "language_info": {
   "name": "python"
  }
 },
 "nbformat": 4,
 "nbformat_minor": 5
}
